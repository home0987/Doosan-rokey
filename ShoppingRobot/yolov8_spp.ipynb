{
  "nbformat": 4,
  "nbformat_minor": 0,
  "metadata": {
    "colab": {
      "provenance": [],
      "toc_visible": true
    },
    "kernelspec": {
      "name": "python3",
      "display_name": "Python 3"
    },
    "language_info": {
      "name": "python"
    }
  },
  "cells": [
    {
      "cell_type": "code",
      "source": [
        "import cv2\n",
        "import os\n",
        "import random\n",
        "import numpy as np\n",
        "from ultralytics import YOLO\n",
        "from sklearn.model_selection import train_test_split"
      ],
      "metadata": {
        "id": "sKSkbwH9_fsb"
      },
      "execution_count": null,
      "outputs": []
    },
    {
      "cell_type": "code",
      "source": [
        "# 젯슨 나노로 영상 촬영\n",
        "video_output = 'captured_video.mp4'\n",
        "cap = cv2.VideoCapture(0)\n",
        "\n",
        "# 비디오 저장 설정\n",
        "fourcc = cv2.VideoWriter_fourcc(*'mp4v')\n",
        "out = cv2.VideoWriter(video_output, fourcc, 20.0, (640, 640))\n",
        "\n",
        "print('영상 촬영 시작 (종료: q 키)')\n",
        "while cap.isOpened():\n",
        "    ret, frame = cap.read()\n",
        "    if not ret:\n",
        "        break\n",
        "\n",
        "    out.write(frame)\n",
        "    cv2.imshow('Recording...', frame)\n",
        "\n",
        "    if cv2.waitKey(1) & 0xFF == ord('q'):\n",
        "        break\n",
        "\n",
        "cap.release()\n",
        "out.release()\n",
        "cv2.destroyAllWindows()"
      ],
      "metadata": {
        "id": "BsO1obXoSWNa"
      },
      "execution_count": null,
      "outputs": []
    },
    {
      "cell_type": "code",
      "source": [
        "# 설정\n",
        "video_path = 'video.mp4'  # 영상 파일 경로\n",
        "output_dir = 'dataset'     # 저장 폴더\n",
        "frame_interval = 96        # 프레임 간격\n",
        "image_size = (640, 640)    # 이미지 크기"
      ],
      "metadata": {
        "id": "1i-14IJrSYn-"
      },
      "execution_count": null,
      "outputs": []
    },
    {
      "cell_type": "code",
      "source": [
        "# 폴더 생성\n",
        "os.makedirs(f'{output_dir}/images/train', exist_ok=True)\n",
        "os.makedirs(f'{output_dir}/images/val', exist_ok=True)\n",
        "os.makedirs(f'{output_dir}/images/test', exist_ok=True)\n",
        "os.makedirs(f'{output_dir}/labels/train', exist_ok=True)\n",
        "os.makedirs(f'{output_dir}/labels/val', exist_ok=True)\n",
        "os.makedirs(f'{output_dir}/labels/test', exist_ok=True)"
      ],
      "metadata": {
        "id": "7jvmV95eOyKk"
      },
      "execution_count": null,
      "outputs": []
    },
    {
      "cell_type": "code",
      "source": [
        "# 영상에서 프레임 추출\n",
        "cap = cv2.VideoCapture(video_path)\n",
        "frame_count = 0\n",
        "image_count = 0\n",
        "\n",
        "while cap.isOpened():\n",
        "    ret, frame = cap.read()\n",
        "    if not ret:\n",
        "        break\n",
        "\n",
        "    if frame_count % frame_interval == 0:\n",
        "        frame = cv2.resize(frame, image_size)\n",
        "        image_filename = f'frame_{image_count:04d}.jpg'\n",
        "        image_path = os.path.join(output_dir, 'images', image_filename)\n",
        "        cv2.imwrite(image_path, frame)\n",
        "\n",
        "        # 바운딩 박스 자동 생성 (임계값 + 윤곽선 검출)\n",
        "        gray = cv2.cvtColor(frame, cv2.COLOR_BGR2GRAY)\n",
        "        _, thresh = cv2.threshold(gray, 127, 255, cv2.THRESH_BINARY_INV)\n",
        "        contours, _ = cv2.findContours(thresh, cv2.RETR_EXTERNAL, cv2.CHAIN_APPROX_SIMPLE)\n",
        "\n",
        "        label_filename = image_filename.replace('.jpg', '.txt')\n",
        "        label_path = os.path.join(output_dir, 'labels', label_filename)\n",
        "\n",
        "        with open(label_path, 'w') as f:\n",
        "            for contour in contours:\n",
        "                x, y, w, h = cv2.boundingRect(contour)\n",
        "\n",
        "                # 너무 작은 객체는 무시\n",
        "                if w * h < 500:\n",
        "                    continue\n",
        "\n",
        "                # YOLO 형식으로 변환\n",
        "                x_center = (x + w / 2) / image_size[0]\n",
        "                y_center = (y + h / 2) / image_size[1]\n",
        "                width = w / image_size[0]\n",
        "                height = h / image_size[1]\n",
        "\n",
        "                class_id = 0  # 단일 클래스라면 0으로 설정\n",
        "                f.write(f'{class_id} {x_center:.6f} {y_center:.6f} {width:.6f} {height:.6f}\\n')\n",
        "\n",
        "        image_count += 1\n",
        "\n",
        "    frame_count += 1\n",
        "\n",
        "cap.release()"
      ],
      "metadata": {
        "id": "VPPSImdwOtzJ"
      },
      "execution_count": null,
      "outputs": []
    },
    {
      "cell_type": "code",
      "source": [
        "# 데이터 분할\n",
        "image_files = [f for f in os.listdir(f'{output_dir}/images') if f.endswith('.jpg')]\n",
        "train_files, temp_files = train_test_split(image_files, test_size=0.3, random_state=42)\n",
        "val_files, test_files = train_test_split(temp_files, test_size=0.33, random_state=42)  # 약 7:2:1 비율\n",
        "\n",
        "def move_files(files, subset):\n",
        "    for file in files:\n",
        "        img_src = os.path.join(output_dir, 'images', file)\n",
        "        label_src = os.path.join(output_dir, 'labels', file.replace('.jpg', '.txt'))\n",
        "\n",
        "        img_dst = os.path.join(output_dir, f'images/{subset}', file)\n",
        "        label_dst = os.path.join(output_dir, f'labels/{subset}', file.replace('.jpg', '.txt'))\n",
        "\n",
        "        os.rename(img_src, img_dst)\n",
        "        os.rename(label_src, label_dst)\n",
        "\n",
        "move_files(train_files, 'train')\n",
        "move_files(val_files, 'val')\n",
        "move_files(test_files, 'test')\n",
        "\n",
        "print('데이터셋 준비 완료')"
      ],
      "metadata": {
        "id": "OjA1lXA3OrDY"
      },
      "execution_count": null,
      "outputs": []
    },
    {
      "cell_type": "code",
      "source": [
        "# YOLOv8 모델 학습\n",
        "model = YOLO('yolov8n.pt')  # YOLOv8n(경량화 모델) 사전 학습 모델 불러오기\n",
        "\n",
        "# 학습 설정\n",
        "model.train(\n",
        "    data={\n",
        "        'train': f'{output_dir}/images/train',\n",
        "        'val': f'{output_dir}/images/val',\n",
        "        'nc': 1,  # 클래스 수\n",
        "        'names': ['object']  # 클래스 이름\n",
        "    },\n",
        "    epochs=50,        # 에폭 수\n",
        "    batch=16,         # 배치 크기\n",
        "    imgsz=640,        # 입력 이미지 크기\n",
        "    project='yolo_project',  # 결과 저장 폴더\n",
        "    name='exp1'       # 실험 이름\n",
        ")\n",
        "\n",
        "print('모델 학습 완료')"
      ],
      "metadata": {
        "id": "mfNzTbmAAOLo"
      },
      "execution_count": null,
      "outputs": []
    },
    {
      "cell_type": "code",
      "source": [
        "# 실시간 트래킹 (젯슨 나노 웹캠)\n",
        "model = YOLO('yolo_project/exp1/weights/best.pt')  # 학습된 모델 불러오기\n",
        "\n",
        "# 젯슨 나노에서 기본 카메라 사용\n",
        "cap = cv2.VideoCapture(0)\n",
        "\n",
        "while cap.isOpened():\n",
        "    ret, frame = cap.read()\n",
        "    if not ret:\n",
        "        break\n",
        "\n",
        "    # 객체 탐지 수행\n",
        "    results = model.track(frame, persist=True)  # 트래킹 유지\n",
        "\n",
        "    # 탐지된 객체 시각화\n",
        "    annotated_frame = results[0].plot()\n",
        "\n",
        "    cv2.imshow('YOLOv8 Real-Time Tracking', annotated_frame)\n",
        "\n",
        "    if cv2.waitKey(1) & 0xFF == ord('q'):\n",
        "        break\n",
        "\n",
        "cap.release()\n",
        "cv2.destroyAllWindows()"
      ],
      "metadata": {
        "id": "iMc9qJPiRE5R"
      },
      "execution_count": null,
      "outputs": []
    }
  ]
}